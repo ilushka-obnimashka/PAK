{
 "cells": [
  {
   "cell_type": "code",
   "execution_count": 4,
   "id": "80099c9f-f089-4c4b-a73f-4c3379423c48",
   "metadata": {},
   "outputs": [],
   "source": [
    "import random\n",
    "import math\n",
    "import sys"
   ]
  },
  {
   "cell_type": "markdown",
   "id": "5a35b2d9-04a4-45dc-a93d-31c435ab9002",
   "metadata": {},
   "source": [
    "## Task1"
   ]
  },
  {
   "cell_type": "raw",
   "id": "2b48ab11-7572-4ca3-bb15-8939d2ff5009",
   "metadata": {},
   "source": [
    "Решение при помощи мэппинга и встроенных функций\n",
    "** map применим к str(a), т.к. работает с любым иттерируемым объектом, каким и является строка"
   ]
  },
  {
   "cell_type": "code",
   "execution_count": 2,
   "id": "78f1cc07-806c-4356-aa5b-a11b51818ff2",
   "metadata": {},
   "outputs": [
    {
     "name": "stdout",
     "output_type": "stream",
     "text": [
      "631\n",
      "10\n"
     ]
    }
   ],
   "source": [
    "a = random.randint(100,999)\n",
    "print(a)\n",
    "print(sum(map(int, str(a))))"
   ]
  },
  {
   "cell_type": "raw",
   "id": "45a79021-d729-44e7-a1be-6225c0048a10",
   "metadata": {},
   "source": [
    "Решение при помощи самописной функции"
   ]
  },
  {
   "cell_type": "code",
   "execution_count": 3,
   "id": "dc62dc62-3857-4d49-97dc-1736dbc77dbd",
   "metadata": {},
   "outputs": [
    {
     "name": "stdout",
     "output_type": "stream",
     "text": [
      "801\n",
      "9\n"
     ]
    }
   ],
   "source": [
    "def sum_of_digits(a):\n",
    "    sum = 0\n",
    "    while a>0 :\n",
    "        sum+=a%10\n",
    "        a//=10\n",
    "    return sum\n",
    "\n",
    "a = random.randint(100,999)\n",
    "print(a)\n",
    "print(sum_of_digits(a))"
   ]
  },
  {
   "cell_type": "markdown",
   "id": "3f09dd5a-b092-48cf-9342-b37d97ac8d5b",
   "metadata": {},
   "source": [
    "## Task2"
   ]
  },
  {
   "cell_type": "raw",
   "id": "c58ae578-8088-439d-a0ee-7536d98c2752",
   "metadata": {},
   "source": [
    "Решение при помощи мэппинга и встроенных функций\n",
    "** map применим к str(a), т.к. работает с любым иттерируемым объектом, каким и является строка"
   ]
  },
  {
   "cell_type": "code",
   "execution_count": 12,
   "id": "76fbf76a-cc0b-470b-abc9-6d42eb13aaac",
   "metadata": {},
   "outputs": [
    {
     "name": "stdout",
     "output_type": "stream",
     "text": [
      "-3204738266829358787\n",
      "98\n"
     ]
    }
   ],
   "source": [
    "a = random.randint(-sys.maxsize-1, sys.maxsize)\n",
    "print(a)\n",
    "a=-a if a<0 else a\n",
    "print(sum(map(int, str(a))))"
   ]
  },
  {
   "cell_type": "raw",
   "id": "d402616e-6896-4ab3-b384-aca9851a720f",
   "metadata": {},
   "source": [
    "Решение при помощи самописной функции"
   ]
  },
  {
   "cell_type": "code",
   "execution_count": 15,
   "id": "f9946611-dab1-4817-b830-a7781660381f",
   "metadata": {},
   "outputs": [
    {
     "name": "stdout",
     "output_type": "stream",
     "text": [
      "-2128238145485592652\n",
      "82\n"
     ]
    }
   ],
   "source": [
    "def sum_of_digits(a):\n",
    "    sum = 0\n",
    "    while a>0 :\n",
    "        sum+=a%10\n",
    "        a//=10\n",
    "    return sum\n",
    "\n",
    "a = random.randint(-sys.maxsize-1, sys.maxsize)\n",
    "print(a)\n",
    "a=-a if a<0 else a\n",
    "print(sum_of_digits(a))"
   ]
  },
  {
   "cell_type": "markdown",
   "id": "87557c50-1cad-4aee-812e-d995a42c84bf",
   "metadata": {},
   "source": [
    "## Task3"
   ]
  },
  {
   "cell_type": "code",
   "execution_count": 5,
   "id": "befb4ec4-8a7e-431d-a507-3b4da31cbbc7",
   "metadata": {},
   "outputs": [
    {
     "name": "stdin",
     "output_type": "stream",
     "text": [
      " 10\n"
     ]
    },
    {
     "name": "stdout",
     "output_type": "stream",
     "text": [
      "1256.6370614359173 4188.790204786391\n"
     ]
    }
   ],
   "source": [
    "r = int(input())\n",
    "s = 4 * math.pi * (r**2)\n",
    "v = 4/3 * math.pi * (r**3)\n",
    "print (s,v)"
   ]
  },
  {
   "cell_type": "markdown",
   "id": "b65453a0-c9eb-4261-9825-ce7462582384",
   "metadata": {},
   "source": [
    "## Task4"
   ]
  },
  {
   "cell_type": "markdown",
   "id": "2e572067-c474-486b-90f2-076e5baff93d",
   "metadata": {},
   "source": [
    "1 способ:"
   ]
  },
  {
   "cell_type": "code",
   "execution_count": 6,
   "id": "7591cb9b-8018-4b55-bd47-ae30f9eb5667",
   "metadata": {},
   "outputs": [
    {
     "name": "stdin",
     "output_type": "stream",
     "text": [
      "enter year, please : 2024\n"
     ]
    },
    {
     "name": "stdout",
     "output_type": "stream",
     "text": [
      "leap year\n"
     ]
    }
   ],
   "source": [
    "year = int(input(\"enter year, please :\"))\n",
    "if year % 4 == 0:\n",
    "    print(\"leap year\")\n",
    "elif year % 100 == 0:\n",
    "    if year % 400 == 0:\n",
    "        print(\"leap year\")\n",
    "    else:\n",
    "        print(\"low year\")\n",
    "else:\n",
    "    print(\"low year\")"
   ]
  },
  {
   "cell_type": "markdown",
   "id": "a005d2fb-de99-4b07-aee8-61a053d98e4b",
   "metadata": {},
   "source": [
    "2 способ:"
   ]
  },
  {
   "cell_type": "code",
   "execution_count": 7,
   "id": "c0a31019-94f3-441c-9285-b2642a895040",
   "metadata": {},
   "outputs": [
    {
     "name": "stdin",
     "output_type": "stream",
     "text": [
      "enter year, please : 2023\n"
     ]
    },
    {
     "name": "stdout",
     "output_type": "stream",
     "text": [
      "low year\n"
     ]
    }
   ],
   "source": [
    "import calendar\n",
    "\n",
    "year = int(input(\"enter year, please :\"))\n",
    "if calendar.isleap(year):\n",
    "    print(\"leap year\")\n",
    "else:\n",
    "    print(\"low year\")\n",
    "    "
   ]
  },
  {
   "cell_type": "markdown",
   "id": "7666b38c-922a-4ab3-82ea-82746de31de0",
   "metadata": {},
   "source": [
    "## Task5"
   ]
  },
  {
   "cell_type": "code",
   "execution_count": 17,
   "id": "72e5b768-7ded-46a0-9393-ab5760cd17f5",
   "metadata": {},
   "outputs": [
    {
     "name": "stdin",
     "output_type": "stream",
     "text": [
      "enter N, please : 10\n"
     ]
    },
    {
     "name": "stdout",
     "output_type": "stream",
     "text": [
      "1 -непростое число\n",
      "2 - простое число\n",
      "3 - простое число\n",
      "4 -непростое число\n",
      "5 - простое число\n",
      "6 -непростое число\n",
      "7 - простое число\n",
      "8 -непростое число\n",
      "9 -непростое число\n"
     ]
    }
   ],
   "source": [
    "def is_prime(num):\n",
    "    if num < 2:\n",
    "        return False\n",
    "    for i in range (2, math.isqrt(num) + 1):\n",
    "        if num % i == 0:\n",
    "            return False\n",
    "    return True\n",
    "\n",
    "\n",
    "N = int(input(\"enter N, please :\"))\n",
    "for i in range (1,N):\n",
    "    if is_prime(i):\n",
    "        print (f\"{i} - простое число\")\n",
    "    else:\n",
    "        print (f\"{i} -непростое число\")"
   ]
  },
  {
   "cell_type": "markdown",
   "id": "eb7111a3-8d8b-42ac-b70a-1fb5658e745c",
   "metadata": {},
   "source": [
    "## Task6"
   ]
  },
  {
   "cell_type": "code",
   "execution_count": 19,
   "id": "2edf2811-5acc-441e-a4fd-36fdaa0169fb",
   "metadata": {},
   "outputs": [
    {
     "name": "stdin",
     "output_type": "stream",
     "text": [
      "enter the initial amount of money : 1000\n",
      "how old is deposite : 10\n"
     ]
    },
    {
     "name": "stdout",
     "output_type": "stream",
     "text": [
      "total deposit amount 2593.7424601\n"
     ]
    }
   ],
   "source": [
    "def calculation_percent(num):\n",
    "    num += 0.1 * num\n",
    "    return num\n",
    "\n",
    "X = int(input(\"enter the initial amount of money :\"))\n",
    "Y = int(input(\"how old is deposite :\"))\n",
    "\n",
    "while Y > 0:\n",
    "    X = calculation_percent(X)\n",
    "    Y -= 1\n",
    "\n",
    "print (f\"total deposit amount {X}\")"
   ]
  },
  {
   "cell_type": "code",
   "execution_count": 24,
   "id": "7da8bf42-fcdb-4d11-8cd9-ae31a6ad976b",
   "metadata": {},
   "outputs": [],
   "source": [
    "import os\n",
    "import path"
   ]
  },
  {
   "cell_type": "code",
   "execution_count": 25,
   "id": "24929563-5d54-4a0f-a3ce-9893efd5f737",
   "metadata": {},
   "outputs": [
    {
     "data": {
      "text/plain": [
       "'C:\\\\Users\\\\Ilya\\\\Tasks PAK'"
      ]
     },
     "execution_count": 25,
     "metadata": {},
     "output_type": "execute_result"
    }
   ],
   "source": [
    "os.path.abspath(\"./\")"
   ]
  },
  {
   "cell_type": "code",
   "execution_count": 27,
   "id": "01b56d54-1df8-4464-9231-e335137e7edb",
   "metadata": {},
   "outputs": [
    {
     "name": "stdin",
     "output_type": "stream",
     "text": [
      " ../Ilya\n"
     ]
    }
   ],
   "source": [
    "import os\n",
    "\n",
    "def get_file_name (dirrectory):\n",
    "    for _, dirs, files in os.walk(dirrectory):\n",
    "        for dir in dirs:\n",
    "            get_file_name(dir)\n",
    "        for name in files:\n",
    "            print(name)\n",
    "\n",
    "\n",
    "dirname = input()\n",
    "get_file_name(dirname)"
   ]
  },
  {
   "cell_type": "code",
   "execution_count": 2,
   "id": "a16ccefe-46b0-40da-8a51-12f3541212c2",
   "metadata": {},
   "outputs": [
    {
     "name": "stdout",
     "output_type": "stream",
     "text": [
      "\t\t\t\t\n"
     ]
    }
   ],
   "source": [
    "print(4*\"\\t\")"
   ]
  },
  {
   "cell_type": "code",
   "execution_count": null,
   "id": "17f35e76-4b18-4740-b50e-7bdf9e5eecf3",
   "metadata": {},
   "outputs": [],
   "source": []
  }
 ],
 "metadata": {
  "kernelspec": {
   "display_name": "Python 3 (ipykernel)",
   "language": "python",
   "name": "python3"
  },
  "language_info": {
   "codemirror_mode": {
    "name": "ipython",
    "version": 3
   },
   "file_extension": ".py",
   "mimetype": "text/x-python",
   "name": "python",
   "nbconvert_exporter": "python",
   "pygments_lexer": "ipython3",
   "version": "3.12.5"
  }
 },
 "nbformat": 4,
 "nbformat_minor": 5
}
