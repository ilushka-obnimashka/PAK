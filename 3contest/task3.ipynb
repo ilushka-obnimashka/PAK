{
 "cells": [
  {
   "cell_type": "markdown",
   "id": "64819faf5071f661",
   "metadata": {},
   "source": [
    "# Задания:\n",
    "1. Перенести все операции по работе с количеством объектов в класс Item\n",
    "2. Дополнить остальными опрерациями сравнения (>, <=, >=, ==), вычитания, а также выполнение операций +=, *=, -=. Все изменения количества должны быть в переделах \\[0, max_count\\]  \n",
    "3. Создать ещё 2 класса съедобных фруктов и 2 класса съедобных не фруктов  \n",
    "4. Создать класс Inventory, который содержит в себе список фиксированной длины. Заполнить его None. Доступ в ячейку осуществляется по индексу.   \n",
    "    4.1 Добавить возможность добавлять в него съедобные объекты в определённые ячейки.  \n",
    "    4.2 Добавить возможность уменьшать количество объектов в списке.  \n",
    "    4.3 При достижении нуля, объект удаляется из инвентаря.  "
   ]
  },
  {
   "cell_type": "markdown",
   "id": "86251992-ef25-4030-91a1-89b2769adaac",
   "metadata": {
    "jp-MarkdownHeadingCollapsed": true
   },
   "source": [
    "## Task 1 - 2"
   ]
  },
  {
   "cell_type": "markdown",
   "id": "679f334b-5837-4bdf-8dd9-8e27bc833bc0",
   "metadata": {},
   "source": [
    "### Code"
   ]
  },
  {
   "cell_type": "code",
   "execution_count": 146,
   "id": "e7120194be915dbf",
   "metadata": {
    "ExecuteTime": {
     "end_time": "2024-09-24T03:16:45.809471Z",
     "start_time": "2024-09-24T03:16:45.799845Z"
    }
   },
   "outputs": [],
   "source": [
    "class Item:\n",
    "    def __init__(self, count=3, max_count=16):\n",
    "        self._count = count\n",
    "        self._max_count = 16\n",
    "        print (\"Item init\")\n",
    "        \n",
    "    def update_count(self, val):\n",
    "        if val <= self._max_count:\n",
    "            self._count = val\n",
    "            return True\n",
    "        else:\n",
    "            return False\n",
    "        \n",
    "    # Свойство объекта. Не принимает параметров кроме self, вызывается без круглых скобок\n",
    "    # Определяется с помощью декоратора property\n",
    "    @property\n",
    "    def count(self):\n",
    "        return self._count\n",
    "    \n",
    "    \n",
    "    # Ещё один способ изменить атрибут класса\n",
    "    @count.setter\n",
    "    def count(self, val):\n",
    "        if val <= self._max_count:\n",
    "            self._count = val\n",
    "        else:\n",
    "            pass\n",
    "    \n",
    "    @staticmethod\n",
    "    def static():\n",
    "        print('I am function')\n",
    "    \n",
    "    @classmethod\n",
    "    def my_name(cls):\n",
    "        return cls.__name__\n",
    "    \n",
    "    \n",
    "    def __add__(self, num):\n",
    "        return self.count + num\n",
    "    \n",
    "    def __sub__(self, num):\n",
    "        return self.count - num\n",
    "    \n",
    "    def __mul__(self, num):\n",
    "        return self.count * num\n",
    "    \n",
    "    def __eq__(self, num):\n",
    "        return self.count == num\n",
    "    \n",
    "    def __lt__(self, num):\n",
    "        return self.count < num\n",
    "    \n",
    "    def __le__(self, num):\n",
    "        return self.count <= num\n",
    "    \n",
    "    def __gt__(self, num):\n",
    "        return self.count > num\n",
    "    \n",
    "    def __ge__(self, num):\n",
    "        return self.count >= num\n",
    "    \n",
    "    def __iadd__(self, val):\n",
    "        if self.count + val <= self._max_count :\n",
    "            self.count += val\n",
    "        else :\n",
    "            pass\n",
    "        return self\n",
    "        \n",
    "    def __isub__(self, val):\n",
    "        if self.count - val >= 0 :\n",
    "            self.count -= val\n",
    "        else :\n",
    "            pass\n",
    "        return self\n",
    "        \n",
    "    def __imul__(self, val):\n",
    "        if self.count * val >= 0 and self.count * val <= self._max_count :\n",
    "            self.count *= val\n",
    "        else :\n",
    "            pass\n",
    "        return self"
   ]
  },
  {
   "cell_type": "markdown",
   "id": "d2c65900-7243-42ee-94b9-c6ee3721a810",
   "metadata": {},
   "source": [
    "### Check"
   ]
  },
  {
   "cell_type": "code",
   "execution_count": 147,
   "id": "6f079060fde4d6cf",
   "metadata": {
    "ExecuteTime": {
     "end_time": "2024-09-24T03:24:48.851676Z",
     "start_time": "2024-09-24T03:24:48.840083Z"
    }
   },
   "outputs": [
    {
     "name": "stdout",
     "output_type": "stream",
     "text": [
      "Item init\n",
      "22\n",
      "2\n",
      "120\n",
      "False\n",
      "False\n",
      "True\n",
      "True\n",
      "False\n",
      "Item init\n",
      "1\n",
      "0\n"
     ]
    }
   ],
   "source": [
    "# Пример использования\n",
    "fst = Item(12)\n",
    "print(fst + 10)  # 22\n",
    "print(fst - 10)  # 2\n",
    "print(fst * 10)  # 120\n",
    "print(fst < 10)   # False\n",
    "print(fst <= 10)  # False\n",
    "print(fst > 10)   # True\n",
    "print(fst >= 10)  # True\n",
    "print(fst == 10)  # False\n",
    "\n",
    "sec = Item(1)\n",
    "print(sec.count)  # 1\n",
    "sec -= 1         \n",
    "print(sec.count)  # 0"
   ]
  },
  {
   "cell_type": "code",
   "execution_count": null,
   "id": "31b9ea9c-1602-45d6-83ab-8ef3606a4847",
   "metadata": {},
   "outputs": [],
   "source": []
  },
  {
   "cell_type": "markdown",
   "id": "acd7ffb0-b627-4f39-8383-00361d8d5ea7",
   "metadata": {
    "jp-MarkdownHeadingCollapsed": true
   },
   "source": [
    "## Task 3"
   ]
  },
  {
   "cell_type": "code",
   "execution_count": 148,
   "id": "2cf57fb7-8614-4c5f-ba7a-610945326ee9",
   "metadata": {},
   "outputs": [],
   "source": [
    "class Fruit(Item):\n",
    "    def __init__(self, ripe=True, **kwargs):\n",
    "        print (\"Fruit init\")\n",
    "        super().__init__(**kwargs)\n",
    "        self._ripe = ripe\n",
    "        \n",
    "\n",
    "class Food(Item):\n",
    "    def __init__(self, saturation, **kwargs):\n",
    "        print (\"Food init\")\n",
    "        super().__init__(**kwargs)\n",
    "        self._saturation = saturation\n",
    "        \n",
    "    @property\n",
    "    def eatable(self):\n",
    "        return self._saturation > 0"
   ]
  },
  {
   "cell_type": "code",
   "execution_count": 149,
   "id": "b4dcb614-d7af-49f9-955c-afa70c67b4f9",
   "metadata": {},
   "outputs": [],
   "source": [
    "class Melon (Fruit, Food):\n",
    "    def __init__(self, ripe, max_count = 10, count = 1, color = 'yellow', saturation = 8, where = 'Uzbekistan'):\n",
    "        super().__init__(ripe = ripe, saturation = saturation, count = count, max_count = max_count)\n",
    "        self._country = where\n",
    "        self._color = color\n",
    "        print (\"Melon init\")\n",
    "    \n",
    "    @property\n",
    "    def color(self):\n",
    "        return self.color\n",
    "\n",
    "    @property\n",
    "    def country(self):\n",
    "        return self.country\n",
    "    "
   ]
  },
  {
   "cell_type": "code",
   "execution_count": 150,
   "id": "0112ab25-a73e-4125-93db-f469a42f3161",
   "metadata": {},
   "outputs": [],
   "source": [
    "class WaterMelon (Melon, Fruit, Food):\n",
    "    def __init__(self, ripe, max_count = 10, count = 2, color = 'green', saturation = 7, where = 'Iran'):\n",
    "        super().__init__(ripe = ripe, saturation = saturation, count = count, max_count = max_count, color = color, where = where )\n",
    "\n",
    "    @property\n",
    "    def color(self):\n",
    "        return self.color\n",
    "\n",
    "    @property\n",
    "    def country(self):\n",
    "        return self.country\n",
    "    "
   ]
  },
  {
   "cell_type": "code",
   "execution_count": 151,
   "id": "1b52413c-d08c-4e98-8162-d544c82ee27e",
   "metadata": {},
   "outputs": [
    {
     "name": "stdout",
     "output_type": "stream",
     "text": [
      "Fruit init\n",
      "Food init\n",
      "Item init\n",
      "Melon init\n",
      "{'_count': 1, '_max_count': 16, '_saturation': 8, '_ripe': True, '_country': 'Iran', '_color': 'yellow'}\n"
     ]
    }
   ],
   "source": [
    "melon = Melon(True, where = 'Iran')\n",
    "print(vars(melon))"
   ]
  },
  {
   "cell_type": "code",
   "execution_count": 152,
   "id": "739e5cb8-3621-4ad1-a4d9-787058f1d824",
   "metadata": {},
   "outputs": [
    {
     "name": "stdout",
     "output_type": "stream",
     "text": [
      "Fruit init\n",
      "Food init\n",
      "Item init\n",
      "Melon init\n",
      "{'_count': 2, '_max_count': 16, '_saturation': 7, '_ripe': True, '_country': 'Iran', '_color': 'green'}\n"
     ]
    }
   ],
   "source": [
    "waterMelon = WaterMelon(True)\n",
    "print(vars(waterMelon))"
   ]
  },
  {
   "cell_type": "code",
   "execution_count": 153,
   "id": "db776290-8ccc-451c-a258-67bbea0e513f",
   "metadata": {},
   "outputs": [],
   "source": [
    "class Steak (Food):\n",
    "    def __init__ (self, count = 1, type_of_meat = 'beef', saturation = 100):\n",
    "        super().__init__(saturation = saturation, count = count)\n",
    "        self.type_of_meat =  type_of_meat\n",
    "        "
   ]
  },
  {
   "cell_type": "code",
   "execution_count": 154,
   "id": "08501dd0-7cd5-419c-b2e1-7fd10572473e",
   "metadata": {},
   "outputs": [
    {
     "name": "stdout",
     "output_type": "stream",
     "text": [
      "Food init\n",
      "Item init\n",
      "{'_count': 1, '_max_count': 16, '_saturation': 100, 'type_of_meat': 'beef'}\n"
     ]
    }
   ],
   "source": [
    "steak = Steak()\n",
    "print(vars(steak))"
   ]
  },
  {
   "cell_type": "code",
   "execution_count": 155,
   "id": "7a516da5-19c5-4000-875a-5bda300d7d06",
   "metadata": {},
   "outputs": [],
   "source": [
    "class IceCream (Food):\n",
    "    def __init__ (self, count = 1, saturation = 16 ):\n",
    "        super().__init__(saturation = saturation, count = count)\n"
   ]
  },
  {
   "cell_type": "code",
   "execution_count": 156,
   "id": "297b17bc-703e-4461-8e06-a27aa257f7bd",
   "metadata": {},
   "outputs": [
    {
     "name": "stdout",
     "output_type": "stream",
     "text": [
      "Food init\n",
      "Item init\n",
      "{'_count': 1, '_max_count': 16, '_saturation': 16}\n"
     ]
    }
   ],
   "source": [
    "ice_cream = IceCream()\n",
    "print(vars(ice_cream))"
   ]
  },
  {
   "cell_type": "markdown",
   "id": "c1943abf-8547-49f6-8004-aa252d891747",
   "metadata": {
    "jp-MarkdownHeadingCollapsed": true
   },
   "source": [
    "## Task4"
   ]
  },
  {
   "cell_type": "code",
   "execution_count": 183,
   "id": "bd46488c-74bd-425a-987d-2f674bb0d68c",
   "metadata": {},
   "outputs": [],
   "source": [
    "class Inventory (Item) :\n",
    "    def __init__(self,size) :\n",
    "        self.list = [None] * size\n",
    "        \n",
    "    def get_item (self, idx) :\n",
    "        \"\"\" метод для получения элемента списка по его idx\"\"\"\n",
    "        if 0 <= idx < len(self.list):\n",
    "            return self.list[idx]\n",
    "            \n",
    "    def set_item (self, value, idx) :\n",
    "        \"\"\" метод для добавления в список экземпляра класса Food \"\"\"\n",
    "        if isinstance(value, Food):\n",
    "            if 0 <= idx < len(self.list):\n",
    "                self.list[idx] = value\n",
    "            \n",
    "\n",
    "    def remove_element (self, idx) : # Уменьшает количество объектов в списке\n",
    "        \"\"\" метод для удаления элемента списка self.list[idx] и последующее смещение всех элементов следующих за ним\"\"\"\n",
    "        \n",
    "        if 0 <= idx < len(self.list):\n",
    "            self.list[idx] = None\n",
    "            for i in range (idx + 1, len(self.list)) :\n",
    "                self.list[i-1] = self.list[i]\n",
    "            self.list[-1] = None\n",
    "\n",
    "    def reduce_count (self, idx, numb) : # 4.2\n",
    "        \"\"\" метод для уменьшения количества self.list[idx] на значение numb\"\"\"\n",
    "        if 0 <= idx < len(self.list) and self.list[idx] is not None:\n",
    "            self.list[idx].count -= numb\n",
    "            if self.list[idx].count < 0 : # 4.3 если атрибут count экземпляра класса Food равен нулю, то этот элемент списка удаляется\n",
    "                self.list[idx] = None\n",
    "        \n",
    "            "
   ]
  },
  {
   "cell_type": "code",
   "execution_count": 189,
   "id": "b2725a0d-958e-4af4-92b0-d9a88fee6b0f",
   "metadata": {},
   "outputs": [
    {
     "name": "stdout",
     "output_type": "stream",
     "text": [
      "None\n",
      "<__main__.Melon object at 0x000001E67817AE10>\n",
      "[None, None, None, None, None, None, None, None, None, <__main__.Melon object at 0x000001E67817AE10>]\n",
      "[None, None, None, None, None, None, None, None, <__main__.Melon object at 0x000001E67817AE10>, None]\n",
      "7\n"
     ]
    }
   ],
   "source": [
    "spisok = Inventory(10)\n",
    "print(spisok.get_item(9)) #None\n",
    "melon.count = 10\n",
    "spisok.set_item(melon, 9)\n",
    "print(spisok.get_item(9)) # melon\n",
    "print (spisok.list)\n",
    "spisok.remove_element(4)\n",
    "print (spisok.list)\n",
    "spisok.reduce_count(8, 3) # у элемента списка с idx = 8 (элемент принадлежтит классу Food) уменьшить количество на 3 \n",
    "print(spisok.get_item(8).count) # 7\n"
   ]
  }
 ],
 "metadata": {
  "kernelspec": {
   "display_name": "Python 3 (ipykernel)",
   "language": "python",
   "name": "python3"
  },
  "language_info": {
   "codemirror_mode": {
    "name": "ipython",
    "version": 3
   },
   "file_extension": ".py",
   "mimetype": "text/x-python",
   "name": "python",
   "nbconvert_exporter": "python",
   "pygments_lexer": "ipython3",
   "version": "3.12.5"
  }
 },
 "nbformat": 4,
 "nbformat_minor": 5
}
