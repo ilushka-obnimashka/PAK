{
 "cells": [
  {
   "cell_type": "code",
   "execution_count": 1,
   "metadata": {},
   "outputs": [],
   "source": [
    "import os\n",
    "import random\n",
    "import matplotlib.pyplot as plt\n",
    "import cv2\n",
    "import numpy as np\n",
    "from typing import List, Tuple"
   ]
  },
  {
   "cell_type": "markdown",
   "metadata": {},
   "source": [
    "### Задания"
   ]
  },
  {
   "cell_type": "markdown",
   "metadata": {},
   "source": [
    "1. Для датасета Nails segmentation создать генератор, который на каждой итерации возвращает пару списков из заданного количества (аргумент функции) изображений и масок к ним (итератор должен перемешивать примеры).\n",
    "2. Добавить в генератор случайную аугментацию (каждая применяется случайно). После преобразований все изображения должны иметь одинаковый размер. Обратите внимание, что большинство преобразований должны применяться одинаково к изображению и маске:\n",
    "    - A. Поворот на случайный угол\n",
    "    - B. Отражение по вертикали, горизонтали\n",
    "    - C. Вырезание части изображения\n",
    "    - D. Размытие"
   ]
  },
  {
   "cell_type": "code",
   "execution_count": 2,
   "metadata": {},
   "outputs": [],
   "source": [
    "images_dir = r'C:\\Users\\Ilya\\Tasks PAK\\data\\nails_segmentation\\images'\n",
    "labels_dir = r'C:\\Users\\Ilya\\Tasks PAK\\data\\nails_segmentation\\labels'\n",
    "\n",
    "images_files = [file for file in os.listdir(images_dir)]\n",
    "\n",
    "images_path = [os.path.join(images_dir, file) for file in images_files]\n",
    "labels_path = [os.path.join(labels_dir, file) for file in images_files]"
   ]
  },
  {
   "cell_type": "markdown",
   "metadata": {},
   "source": [
    "#### Task1"
   ]
  },
  {
   "cell_type": "code",
   "execution_count": 3,
   "metadata": {},
   "outputs": [],
   "source": [
    "def nails_segmentation_generator (quantity : int, images_path: List[str], \n",
    "                    labels_path: List[str], augmentation_flag : bool ) -> Tuple [List[np.ndarray],List[np.ndarray]] :\n",
    "    \"\"\"\n",
    "    Генератор для создания пар списков изображений и масок к ним.\n",
    "\n",
    "    :param quantity:  длина возвращаемых списков\n",
    "    :param images_path: список путей к файлам изображений\n",
    "    :param labels_path: список путей к файлам масок\n",
    "    :return: кортеж из двух списков: список изображений и список масок\n",
    "    \"\"\"\n",
    "    pairs_path = list(zip(images_path, labels_path))\n",
    "\n",
    "    while True:\n",
    "        random.shuffle(pairs_path)\n",
    "        \n",
    "        part_pairs_path = pairs_path [:quantity]\n",
    "        part_images_path, part_labels_path = zip(*part_pairs_path)\n",
    "\n",
    "        images = []\n",
    "        labels = []\n",
    "\n",
    "        for i in range (quantity):\n",
    "            image = cv2.imread (part_images_path[i])\n",
    "            label = cv2.imread (part_labels_path[i])\n",
    "\n",
    "            if (augmentation_flag) :\n",
    "                # 1 - Поворот на случайный угол\n",
    "                # 2 - Отражение по вертикали, горизонтали\n",
    "                # 3 - Вырезание части изображения\n",
    "                # 4 - Размытие\n",
    "                type_of_change = random.randint(1,4)\n",
    "                if (type_of_change == 1):\n",
    "                    image, label = rotate(image, label)\n",
    "                if (type_of_change == 2):\n",
    "                    image, label = reflection(image, label)\n",
    "                if (type_of_change == 3):\n",
    "                    image, label = cutting(image, label)\n",
    "                if (type_of_change == 3):\n",
    "                    image = blur(image)\n",
    "            images.append (image)\n",
    "            labels.append (label)\n",
    "        yield images, labels\n",
    "        "
   ]
  },
  {
   "cell_type": "code",
   "execution_count": 4,
   "metadata": {},
   "outputs": [
    {
     "ename": "NameError",
     "evalue": "name 'rotate' is not defined",
     "output_type": "error",
     "traceback": [
      "\u001b[1;31m---------------------------------------------------------------------------\u001b[0m",
      "\u001b[1;31mNameError\u001b[0m                                 Traceback (most recent call last)",
      "Cell \u001b[1;32mIn[4], line 6\u001b[0m\n\u001b[0;32m      2\u001b[0m quantity \u001b[38;5;241m=\u001b[39m \u001b[38;5;241m10\u001b[39m\n\u001b[0;32m      4\u001b[0m generator \u001b[38;5;241m=\u001b[39m nails_segmentation_generator(quantity, images_path, labels_path, augmentation_flag)\n\u001b[1;32m----> 6\u001b[0m images, labels \u001b[38;5;241m=\u001b[39m \u001b[38;5;28;43mnext\u001b[39;49m\u001b[43m(\u001b[49m\u001b[43mgenerator\u001b[49m\u001b[43m)\u001b[49m\n",
      "Cell \u001b[1;32mIn[3], line 33\u001b[0m, in \u001b[0;36mnails_segmentation_generator\u001b[1;34m(quantity, images_path, labels_path, augmentation_flag)\u001b[0m\n\u001b[0;32m     31\u001b[0m type_of_change \u001b[38;5;241m=\u001b[39m random\u001b[38;5;241m.\u001b[39mrandint(\u001b[38;5;241m1\u001b[39m,\u001b[38;5;241m4\u001b[39m)\n\u001b[0;32m     32\u001b[0m \u001b[38;5;28;01mif\u001b[39;00m (type_of_change \u001b[38;5;241m==\u001b[39m \u001b[38;5;241m1\u001b[39m):\n\u001b[1;32m---> 33\u001b[0m     image, label \u001b[38;5;241m=\u001b[39m \u001b[43mrotate\u001b[49m(image, label)\n\u001b[0;32m     34\u001b[0m \u001b[38;5;28;01mif\u001b[39;00m (type_of_change \u001b[38;5;241m==\u001b[39m \u001b[38;5;241m2\u001b[39m):\n\u001b[0;32m     35\u001b[0m     image, label \u001b[38;5;241m=\u001b[39m reflection(image, label)\n",
      "\u001b[1;31mNameError\u001b[0m: name 'rotate' is not defined"
     ]
    }
   ],
   "source": [
    "augmentation_flag = True\n",
    "quantity = 10\n",
    "\n",
    "generator = nails_segmentation_generator(quantity, images_path, labels_path, augmentation_flag)\n",
    "\n",
    "images, labels = next(generator)"
   ]
  },
  {
   "cell_type": "code",
   "execution_count": 5,
   "metadata": {},
   "outputs": [
    {
     "ename": "NameError",
     "evalue": "name 'images' is not defined",
     "output_type": "error",
     "traceback": [
      "\u001b[1;31m---------------------------------------------------------------------------\u001b[0m",
      "\u001b[1;31mNameError\u001b[0m                                 Traceback (most recent call last)",
      "Cell \u001b[1;32mIn[5], line 1\u001b[0m\n\u001b[1;32m----> 1\u001b[0m \u001b[38;5;28;01mfor\u001b[39;00m img, label \u001b[38;5;129;01min\u001b[39;00m \u001b[38;5;28mzip\u001b[39m(\u001b[43mimages\u001b[49m, labels):\n\u001b[0;32m      2\u001b[0m     cv2\u001b[38;5;241m.\u001b[39mimshow(\u001b[38;5;124m'\u001b[39m\u001b[38;5;124mImage\u001b[39m\u001b[38;5;124m'\u001b[39m, img)\n\u001b[0;32m      3\u001b[0m     cv2\u001b[38;5;241m.\u001b[39mimshow(\u001b[38;5;124m'\u001b[39m\u001b[38;5;124mLabel\u001b[39m\u001b[38;5;124m'\u001b[39m, label)\n",
      "\u001b[1;31mNameError\u001b[0m: name 'images' is not defined"
     ]
    }
   ],
   "source": [
    "for img, label in zip(images, labels):\n",
    "    cv2.imshow('Image', img)\n",
    "    cv2.imshow('Label', label)\n",
    "\n",
    "    key = cv2.waitKey(0) & 0xff\n",
    "    \n",
    "    if key == 27:\n",
    "        break\n",
    "cv2.destroyAllWindows()"
   ]
  },
  {
   "cell_type": "markdown",
   "metadata": {},
   "source": [
    "#### Task2"
   ]
  },
  {
   "cell_type": "code",
   "execution_count": 6,
   "metadata": {},
   "outputs": [],
   "source": [
    "np.random.seed(43)"
   ]
  },
  {
   "cell_type": "code",
   "execution_count": 11,
   "metadata": {},
   "outputs": [
    {
     "ename": "NameError",
     "evalue": "name 'img' is not defined",
     "output_type": "error",
     "traceback": [
      "\u001b[1;31m---------------------------------------------------------------------------\u001b[0m",
      "\u001b[1;31mNameError\u001b[0m                                 Traceback (most recent call last)",
      "Cell \u001b[1;32mIn[11], line 1\u001b[0m\n\u001b[1;32m----> 1\u001b[0m \u001b[38;5;28;01mdef\u001b[39;00m \u001b[38;5;21mrotate\u001b[39m (img : np\u001b[38;5;241m.\u001b[39mndarray, label : np\u001b[38;5;241m.\u001b[39mndarray) \u001b[38;5;241m-\u001b[39m\u001b[38;5;241m>\u001b[39m Tuple [\u001b[43mimg\u001b[49m : np\u001b[38;5;241m.\u001b[39mndarray , label : np\u001b[38;5;241m.\u001b[39mndarray] :\n\u001b[0;32m      2\u001b[0m \u001b[38;5;250m     \u001b[39m\u001b[38;5;124;03m\"\"\"\u001b[39;00m\n\u001b[0;32m      3\u001b[0m \u001b[38;5;124;03m    функция для поворота на случайный угол изображения и его маски.\u001b[39;00m\n\u001b[0;32m      4\u001b[0m \n\u001b[1;32m   (...)\u001b[0m\n\u001b[0;32m      7\u001b[0m \u001b[38;5;124;03m    :return: кортеж из двух элементов: повернутое изображение (np.ndarray), повернутая маска (np.ndarray)\u001b[39;00m\n\u001b[0;32m      8\u001b[0m \u001b[38;5;124;03m    \"\"\"\u001b[39;00m\n\u001b[0;32m      9\u001b[0m      alpha \u001b[38;5;241m=\u001b[39m random\u001b[38;5;241m.\u001b[39mrandint(\u001b[38;5;241m-\u001b[39m\u001b[38;5;241m180\u001b[39m, \u001b[38;5;241m180\u001b[39m)\n",
      "\u001b[1;31mNameError\u001b[0m: name 'img' is not defined"
     ]
    }
   ],
   "source": [
    "def rotate (img : np.ndarray, label : np.ndarray) -> Tuple [img : np.ndarray , label : np.ndarray] :\n",
    "     \"\"\"\n",
    "    функция для поворота на случайный угол изображения и его маски.\n",
    "\n",
    "    :param img:  исходное изображение (np.ndarray)\n",
    "    :param label :  исходная маска (np.ndarray)\n",
    "    :return: кортеж из двух элементов: повернутое изображение (np.ndarray), повернутая маска (np.ndarray)\n",
    "    \"\"\"\n",
    "     alpha = random.randint(-180, 180)\n",
    "     if alpha == 0:\n",
    "          alpha = random.randint(-180, 180)\n",
    "\n",
    "     \n",
    "     height, width = img.shape[:2]\n",
    "     center_h, center_w = height//2, width//2\n",
    "\n",
    "\n",
    "     rot_mat = cv2.getRotationMatrix2D((center_h, center_w), alpha, 1.0)\n",
    "     \n",
    "     img =  cv2.warpAffine(img, rot_mat, (height, width), flags=cv2.INTER_LINEAR)\n",
    "     label = cv2.warpAffine(label, rot_mat, (height, width), flags=cv2.INTER_LINEAR)\n",
    "\n",
    "     return img, label\n"
   ]
  },
  {
   "cell_type": "code",
   "execution_count": 12,
   "metadata": {},
   "outputs": [
    {
     "ename": "NameError",
     "evalue": "name 'img' is not defined",
     "output_type": "error",
     "traceback": [
      "\u001b[1;31m---------------------------------------------------------------------------\u001b[0m",
      "\u001b[1;31mNameError\u001b[0m                                 Traceback (most recent call last)",
      "Cell \u001b[1;32mIn[12], line 1\u001b[0m\n\u001b[1;32m----> 1\u001b[0m \u001b[38;5;28;01mdef\u001b[39;00m \u001b[38;5;21mreflection\u001b[39m (img : np\u001b[38;5;241m.\u001b[39mndarray, label : np\u001b[38;5;241m.\u001b[39mndarray) \u001b[38;5;241m-\u001b[39m\u001b[38;5;241m>\u001b[39m Tuple [\u001b[43mimg\u001b[49m : np\u001b[38;5;241m.\u001b[39mndarray , label : np\u001b[38;5;241m.\u001b[39mndarray] :\n\u001b[0;32m      2\u001b[0m \u001b[38;5;250m     \u001b[39m\u001b[38;5;124;03m\"\"\"\u001b[39;00m\n\u001b[0;32m      3\u001b[0m \u001b[38;5;124;03m     функция для отражения изображения вокруг случайно выбранной оси.\u001b[39;00m\n\u001b[0;32m      4\u001b[0m \n\u001b[1;32m   (...)\u001b[0m\n\u001b[0;32m      7\u001b[0m \u001b[38;5;124;03m     :return: кортеж из двух элементов: отраженное изображение (np.ndarray), отраженная маска (np.ndarray)\u001b[39;00m\n\u001b[0;32m      8\u001b[0m \u001b[38;5;124;03m     \"\"\"\u001b[39;00m\n\u001b[0;32m      9\u001b[0m      \u001b[38;5;66;03m# выбираем сценарий отражения\u001b[39;00m\n\u001b[0;32m     10\u001b[0m      \u001b[38;5;66;03m# Вертикальное отражение изображения (flipCode == 0)\u001b[39;00m\n\u001b[0;32m     11\u001b[0m      \u001b[38;5;66;03m# Горизонтальное отражение изображения (flipCode == 1)\u001b[39;00m\n\u001b[0;32m     12\u001b[0m      \u001b[38;5;66;03m# Одновременное горизонтальное и вертикальное отражение изображения (flipCode == -1)\u001b[39;00m\n",
      "\u001b[1;31mNameError\u001b[0m: name 'img' is not defined"
     ]
    }
   ],
   "source": [
    "def reflection (img : np.ndarray, label : np.ndarray) -> Tuple [img : np.ndarray , label : np.ndarray] :\n",
    "     \"\"\"\n",
    "     функция для отражения изображения вокруг случайно выбранной оси.\n",
    "\n",
    "     :param img:  исходное изображение (np.ndarray)\n",
    "     :param label :  исходная маска (np.ndarray)\n",
    "     :return: кортеж из двух элементов: отраженное изображение (np.ndarray), отраженная маска (np.ndarray)\n",
    "     \"\"\"\n",
    "     # выбираем сценарий отражения\n",
    "     # Вертикальное отражение изображения (flipCode == 0)\n",
    "     # Горизонтальное отражение изображения (flipCode == 1)\n",
    "     # Одновременное горизонтальное и вертикальное отражение изображения (flipCode == -1)\n",
    "     flipCode = random.randint(-1, 1)\n",
    "\n",
    "     img = cv2.flip(img,flipCode)\n",
    "     label = cv2.flip(label, flipCode)\n",
    "     return img,label \n",
    "    "
   ]
  },
  {
   "cell_type": "code",
   "execution_count": 13,
   "metadata": {},
   "outputs": [
    {
     "ename": "NameError",
     "evalue": "name 'img' is not defined",
     "output_type": "error",
     "traceback": [
      "\u001b[1;31m---------------------------------------------------------------------------\u001b[0m",
      "\u001b[1;31mNameError\u001b[0m                                 Traceback (most recent call last)",
      "Cell \u001b[1;32mIn[13], line 1\u001b[0m\n\u001b[1;32m----> 1\u001b[0m \u001b[38;5;28;01mdef\u001b[39;00m \u001b[38;5;21mcutting\u001b[39m(img : np\u001b[38;5;241m.\u001b[39mndarray, label : np\u001b[38;5;241m.\u001b[39mndarray) \u001b[38;5;241m-\u001b[39m\u001b[38;5;241m>\u001b[39m Tuple [\u001b[43mimg\u001b[49m : np\u001b[38;5;241m.\u001b[39mndarray , label : np\u001b[38;5;241m.\u001b[39mndarray] :\n\u001b[0;32m      2\u001b[0m \u001b[38;5;250m    \u001b[39m\u001b[38;5;124;03m\"\"\"\u001b[39;00m\n\u001b[0;32m      3\u001b[0m \u001b[38;5;124;03m     функция для вырезания части изображения.\u001b[39;00m\n\u001b[0;32m      4\u001b[0m \n\u001b[1;32m   (...)\u001b[0m\n\u001b[0;32m      7\u001b[0m \u001b[38;5;124;03m     :return: кортеж из двух элементов: часть изображения (np.ndarray), часть маски (np.ndarray)\u001b[39;00m\n\u001b[0;32m      8\u001b[0m \u001b[38;5;124;03m     \"\"\"\u001b[39;00m\n\u001b[0;32m      9\u001b[0m     bbox \u001b[38;5;241m=\u001b[39m np\u001b[38;5;241m.\u001b[39mrandom\u001b[38;5;241m.\u001b[39mrandint(\u001b[38;5;241m0\u001b[39m, \u001b[38;5;241m128\u001b[39m, size\u001b[38;5;241m=\u001b[39m\u001b[38;5;241m4\u001b[39m)  \u001b[38;5;66;03m# x, y, w, h\u001b[39;00m\n",
      "\u001b[1;31mNameError\u001b[0m: name 'img' is not defined"
     ]
    }
   ],
   "source": [
    "def cutting(img : np.ndarray, label : np.ndarray) -> Tuple [img : np.ndarray , label : np.ndarray] :\n",
    "    \"\"\"\n",
    "     функция для вырезания части изображения.\n",
    "\n",
    "     :param img:  исходное изображение (np.ndarray)\n",
    "     :param label :  исходная маска (np.ndarray)\n",
    "     :return: кортеж из двух элементов: часть изображения (np.ndarray), часть маски (np.ndarray)\n",
    "     \"\"\"\n",
    "    bbox = np.random.randint(0, 128, size=4)  # x, y, w, h\n",
    "    \n",
    "    crop_height = 128\n",
    "    crop_width = 128\n",
    "\n",
    "    height, width = img.shape[:2]\n",
    "\n",
    "    x = random.randint(0, width - crop_width)\n",
    "    y = random.randint(0, height - crop_height)\n",
    "\n",
    "    img = img[y:y+crop_height, x: x+crop_width]\n",
    "    label = label[y:y+crop_height, x: x+crop_width]\n",
    "\n",
    "    return img, label"
   ]
  },
  {
   "cell_type": "code",
   "execution_count": 14,
   "metadata": {},
   "outputs": [],
   "source": [
    "def blur(img : np.ndarray) -> np.ndarray :\n",
    "    \"\"\"\n",
    "    функция для размытия изображения.\n",
    "    :param img:  исходное изображение (np.ndarray)\n",
    "    :return: размытое изображение\n",
    "    \"\"\"\n",
    "    img = cv2.medianBlur(img, 3)\n",
    "    return img\n",
    "    "
   ]
  },
  {
   "cell_type": "markdown",
   "metadata": {},
   "source": [
    "### Лабороторная "
   ]
  },
  {
   "cell_type": "markdown",
   "metadata": {},
   "source": [
    "Ловлю призраков необходимо реализовать через поиск и сопоставление ключевых точек на изображениях. Алгоритм должен состоять из следующих шагов:\n",
    "\n",
    "- Загрузка изображения, на котором необходимо осуществлять поиск;\n",
    "- Загрузка изображения(ий) призраков;\n",
    "- Обнаружить на них ключевые точки и вычислить для них любые понравившиеся вам дескрипторы SIFT, SURF, ORB;\n",
    "- Сопоставить точки шаблона (призрака) с точками изображения через Brute-Force Matching или FLANN Matching и найти какой области соответстветствует призрак;\n",
    "- Найти гомографию используя алгоритм RANSAC. Выделить призрака на изображение рамкой.\n",
    "\n",
    "\n",
    "Ключевые слова для поиска в Google и документации OpenCV: findHomography, RANSAC, SIFT_Create, FlannBasedMatcher.\n",
    "\n",
    "ЛР 6.1: нужно поймать одного призрака ЛР 6.2: нужно поймать всех призраков"
   ]
  },
  {
   "cell_type": "markdown",
   "metadata": {},
   "source": []
  },
  {
   "cell_type": "markdown",
   "metadata": {},
   "source": [
    "##### 6.1"
   ]
  },
  {
   "cell_type": "code",
   "execution_count": 49,
   "metadata": {},
   "outputs": [],
   "source": [
    "all_ghost = ['pampkin_ghost.png', 'scary_ghost.png', 'candy_ghost.png']\n",
    "\n",
    "i = 1 \n",
    "\n",
    "ghosts_augmentation = []\n",
    "for _ in range(1):\n",
    "    temp = cv2.imread(all_ghost[i])\n",
    "    temp = cv2.cvtColor(temp,cv2.COLOR_BGR2GRAY)\n",
    "    ghosts_augmentation.append(temp)\n",
    "    ghosts_augmentation.append(cv2.flip(temp,0))"
   ]
  },
  {
   "cell_type": "code",
   "execution_count": 50,
   "metadata": {},
   "outputs": [],
   "source": [
    "img = cv2.imread('lab7.png')\n",
    "total_img = img.copy()\n",
    "gray_img = cv2.cvtColor(img, cv2.COLOR_BGR2GRAY)\n",
    "\n",
    "sift = cv2.SIFT_create()\n",
    "\n",
    "flag = True"
   ]
  },
  {
   "cell_type": "code",
   "execution_count": null,
   "metadata": {},
   "outputs": [],
   "source": [
    "while flag:\n",
    "    flag = False\n",
    "    for ghost in ghost_augmentation :\n",
    "        kp1, dp1 = sift.detectAndCompute(ghost, None)\n",
    "        kp_img, dp_img = sift.detectAndCompute(gray_img, None)\n",
    "\n",
    "        FLANN_INDEX_KDTREE = 1\n",
    "        index_params = dict(algorithm=FLANN_INDEX_KDTREE, trees=5)\n",
    "        search_params = dict(checks=50)\n",
    "\n",
    "        flann = cv2.FlannBasedMatcher(index_params, search_params)\n",
    "    \n",
    "        matches = flann.knnMatch(dp1, dp_img, k=2)\n",
    "        good = []\n",
    "        for m, n in matches:\n",
    "            if m.distance < 0.7 * n.distance:\n",
    "                good.append(m)\n",
    "\n",
    "        if len(good) < 10:\n",
    "            continue\n",
    "            \n",
    "        src_pts = np.float32([kp1[m.queryIdx].pt for m in good]).reshape(-1, 1, 2)\n",
    "        dst_pts = np.float32([kp_img[m.trainIdx].pt for m in good]).reshape(-1, 1, 2)\n",
    "        M, mask = cv2.findHomography(src_pts, dst_pts, cv2.RANSAC, 5.0)\n",
    "\n",
    "        if M is not None:\n",
    "            h, w = ghost.shape\n",
    "            pts = np.float32([[0, 0], [0, h-1], [w-1, h-1], [w-1, 0]]).reshape(-1, 1, 2)\n",
    "            dst = cv2.perspectiveTransform(pts, M)\n",
    "\n",
    "            gray_img = cv2.fillPoly(gray_img, [np.int32(dst)], 0)\n",
    "\n",
    "            total_img = cv2.polylines(total_img, [np.int32(dst)], True, (0, 255, 0), 3, cv2.LINE_AA)\n",
    "\n",
    "            flag = True\n",
    "        \n",
    "        cv2.imshow('1', gray_img)\n",
    "        cv2.waitKey(0)\n",
    "        cv2.destroyAllWindows()\n",
    "\n",
    "# Отображение окончательного результата\n",
    "cv2.imshow('Detected Ghost', total_img)\n",
    "cv2.waitKey(0)\n",
    "cv2.destroyAllWindows()\n"
   ]
  },
  {
   "cell_type": "markdown",
   "metadata": {},
   "source": [
    "#### 6.2"
   ]
  },
  {
   "cell_type": "code",
   "execution_count": 37,
   "metadata": {},
   "outputs": [],
   "source": [
    "all_ghost = ['pampkin_ghost.png', 'scary_ghost.png', 'candy_ghost.png']\n",
    "\n",
    "all_ghosts_augmentation = []\n",
    "for ghost in all_ghost:\n",
    "    temp = cv2.imread(ghost)\n",
    "    temp = cv2.cvtColor(temp,cv2.COLOR_BGR2GRAY)\n",
    "    all_ghosts_augmentation.append(temp)\n",
    "    all_ghosts_augmentation.append(cv2.flip(temp,0))"
   ]
  },
  {
   "cell_type": "code",
   "execution_count": null,
   "metadata": {},
   "outputs": [],
   "source": [
    "img = cv2.imread('lab7.png')\n",
    "total_img = img.copy()\n",
    "gray_img = cv2.cvtColor(img, cv2.COLOR_BGR2GRAY)\n",
    "\n",
    "sift = cv2.SIFT_create()\n",
    "\n",
    "flag = True"
   ]
  },
  {
   "cell_type": "code",
   "execution_count": 52,
   "metadata": {},
   "outputs": [],
   "source": [
    "while flag:\n",
    "    flag = False  \n",
    "    for ghost in all_ghosts_augmentation:\n",
    "        \n",
    "        kp1, dp1 = sift.detectAndCompute(ghost, None)\n",
    "        kp_img, dp_img = sift.detectAndCompute(gray_img, None)\n",
    "\n",
    "        FLANN_INDEX_KDTREE = 1\n",
    "        index_params = dict(algorithm=FLANN_INDEX_KDTREE, trees=5)\n",
    "        search_params = dict(checks=50)\n",
    "\n",
    "        flann = cv2.FlannBasedMatcher(index_params, search_params)\n",
    "\n",
    "       \n",
    "        matches = flann.knnMatch(dp1, dp_img, k=2)\n",
    "        good = []\n",
    "        for m, n in matches:\n",
    "            if m.distance < 0.65 * n.distance:\n",
    "                good.append(m)\n",
    "\n",
    "        if len(good) < 10:\n",
    "            continue\n",
    "\n",
    "\n",
    "        src_pts = np.float32([kp1[m.queryIdx].pt for m in good]).reshape(-1, 1, 2)\n",
    "        dst_pts = np.float32([kp_img[m.trainIdx].pt for m in good]).reshape(-1, 1, 2)\n",
    "        M, mask = cv2.findHomography(src_pts, dst_pts, cv2.RANSAC, 5.0)\n",
    "\n",
    "        if M is not None:\n",
    "            h, w = ghost.shape\n",
    "            pts = np.float32([[0, 0], [0, h-1], [w-1, h-1], [w-1, 0]]).reshape(-1, 1, 2)\n",
    "            dst = cv2.perspectiveTransform(pts, M)\n",
    "\n",
    "            gray_img = cv2.fillPoly(gray_img, [np.int32(dst)], 0)\n",
    "\n",
    "            total_img = cv2.polylines(total_img, [np.int32(dst)], True, (0, 255, 0), 3, cv2.LINE_AA)\n",
    "\n",
    "            flag = True\n",
    "\n",
    "        cv2.imshow('1', gray_img)\n",
    "        cv2.waitKey(0)\n",
    "        cv2.destroyAllWindows()\n",
    "        \n",
    "cv2.imshow('Detected Ghost', total_img)\n",
    "cv2.waitKey(0)\n",
    "cv2.destroyAllWindows()"
   ]
  },
  {
   "cell_type": "code",
   "execution_count": null,
   "metadata": {},
   "outputs": [],
   "source": []
  }
 ],
 "metadata": {
  "kernelspec": {
   "display_name": "Python 3 (ipykernel)",
   "language": "python",
   "name": "python3"
  },
  "language_info": {
   "codemirror_mode": {
    "name": "ipython",
    "version": 3
   },
   "file_extension": ".py",
   "mimetype": "text/x-python",
   "name": "python",
   "nbconvert_exporter": "python",
   "pygments_lexer": "ipython3",
   "version": "3.12.5"
  }
 },
 "nbformat": 4,
 "nbformat_minor": 4
}
