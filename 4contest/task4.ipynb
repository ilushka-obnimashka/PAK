{
 "cells": [
  {
   "cell_type": "code",
   "execution_count": 3,
   "id": "46d1bd20-df7c-4af0-9853-47192faf3b2c",
   "metadata": {},
   "outputs": [],
   "source": [
    "import numpy as np\n",
    "import math\n",
    "import numpy.random as rand  "
   ]
  },
  {
   "cell_type": "markdown",
   "id": "3536705c-470d-41f7-8733-e9a3d2d7e23d",
   "metadata": {},
   "source": [
    "# Задачи\n",
    "*Стараться избегать циклы*\n",
    "1. Отсортировать значения массива по частоте встречания.\n",
    "2. Дана картинка высоты h, ширины w, тип данных np.uint8 (от 0 до 255). Найти количество уникальных цветов.\n",
    "3. Написать функцию, вычислающую плавающее среднее вектора\n",
    "4. Дана матрица (n, 3). Вывести те тройки чисел, которые являются длинами сторон треугольника.\n",
    "5. Решить следующую систему линейных уравнений (не используя np.linalg.solve):\n",
    "\\begin{equation}\n",
    "    \\begin{matrix}\n",
    "     \\left\\{\n",
    "    \\begin{matrix}\n",
    "    3x + 4y + 2z = 17  \\\\\n",
    "    5x + 2y + 3z = 23  \\\\\n",
    "    4x + 3y + 2z = 19  \\\\ \n",
    "    \\end{matrix} \\right.\n",
    "    \\end{matrix}\n",
    "\\end{equation}\n",
    "\n",
    "6.  Выполнить сингулярное разложение матрицы: \\\n",
    "A = np.matrix(\"1 0 1; 0 1 0; 1 0 1\")"
   ]
  },
  {
   "cell_type": "markdown",
   "id": "1adb6d0a-4392-492a-8510-ad6a471f131b",
   "metadata": {},
   "source": [
    "## Task1"
   ]
  },
  {
   "cell_type": "markdown",
   "id": "bc39a42d-9331-479f-ba06-771f766a834a",
   "metadata": {},
   "source": [
    "### 1way"
   ]
  },
  {
   "cell_type": "code",
   "execution_count": 11,
   "id": "80e808ff-12f4-4660-9846-233253aa1d8e",
   "metadata": {},
   "outputs": [],
   "source": [
    "def sort_values_by_frequency(arr):\n",
    "    unique, frequency = np.unique(arr, \n",
    "                              return_counts = True)\n",
    "    frequency_list = frequency.tolist()\n",
    "    unique_list = unique.tolist()\n",
    "    d = dict(zip(unique_list,frequency_list))\n",
    "    sorted_d = { k : d[k] for k in sorted(d.keys(), key = d.get )} # получаем отсортированный по частоте словарь вида {число : частота}\n",
    "    result = [x for x in sorted_d for _ in range (sorted_d[x])]\n",
    "    print(result)"
   ]
  },
  {
   "cell_type": "code",
   "execution_count": 12,
   "id": "1fef7ff4-9740-4b38-8710-26788fc4bee6",
   "metadata": {},
   "outputs": [
    {
     "name": "stdout",
     "output_type": "stream",
     "text": [
      "[[2 4 0]\n",
      " [3 0 2]\n",
      " [1 4 0]]\n",
      "[1, 3, 2, 2, 4, 4, 0, 0, 0]\n"
     ]
    }
   ],
   "source": [
    "arr = rand.randint(0,5,(3,3))\n",
    "print(arr)\n",
    "sort_values_by_frequency(arr)"
   ]
  },
  {
   "cell_type": "markdown",
   "id": "3ac574a4-176f-420f-8c6a-3137cdfe022b",
   "metadata": {},
   "source": [
    "### 2way"
   ]
  },
  {
   "cell_type": "code",
   "execution_count": 91,
   "id": "793553e3-69d8-43fd-8bf2-81c847d81112",
   "metadata": {},
   "outputs": [
    {
     "name": "stdout",
     "output_type": "stream",
     "text": [
      "[2 3 1 4]\n"
     ]
    }
   ],
   "source": [
    "unique, frequency = np.unique(arr, \n",
    "                              return_counts = True)\n",
    "sortIdx = np.argsort(frequency)\n",
    "print(unique[sortIdx])"
   ]
  },
  {
   "cell_type": "markdown",
   "id": "367ce129-7a8f-4804-afc0-fc2ad849d34e",
   "metadata": {},
   "source": [
    "## Task2"
   ]
  },
  {
   "cell_type": "code",
   "execution_count": 103,
   "id": "fa10fb06-5e03-45ff-b133-bee1b9a093bb",
   "metadata": {},
   "outputs": [
    {
     "name": "stdout",
     "output_type": "stream",
     "text": [
      "251\n"
     ]
    }
   ],
   "source": [
    "h, w = 32, 32\n",
    "arr = rand.uniform(0, 255, (h,w))\n",
    "arr = arr.astype(np.uint8)\n",
    "unique = np.unique(arr)\n",
    "print(len(unique))"
   ]
  },
  {
   "cell_type": "markdown",
   "id": "60841322-f369-497e-9a65-712c2eb749cc",
   "metadata": {},
   "source": [
    "## Task3"
   ]
  },
  {
   "cell_type": "markdown",
   "id": "93f33c38-b1b1-4b56-b1d6-721668495b65",
   "metadata": {},
   "source": [
    "### 1way"
   ]
  },
  {
   "cell_type": "code",
   "execution_count": 16,
   "id": "47fd5969-8a51-4e4d-82f7-551b006d666d",
   "metadata": {},
   "outputs": [
    {
     "name": "stdout",
     "output_type": "stream",
     "text": [
      "[2.0, 3.0, 4.0, 5.0, 6.0, 7.0, 8.0]\n"
     ]
    }
   ],
   "source": [
    "def moving_avg(vector, window_size) :\n",
    "    res = []\n",
    "    for i in range(len(vector) - window_size + 1):\n",
    "        start = i\n",
    "        end = i + window_size\n",
    "        res.append(np.mean(vector [start:end]))\n",
    "    return res\n",
    "    \n",
    "vec = np.array([1,2,3,4,5,6,7,8,9], dtype = float)\n",
    "window = 3\n",
    "res = moving_avg(vec,window)\n",
    "res = list(map(float,res))\n",
    "print(res)\n"
   ]
  },
  {
   "cell_type": "markdown",
   "id": "9c63a061-f848-48d8-beae-1eed02e511a1",
   "metadata": {},
   "source": [
    "### 2way"
   ]
  },
  {
   "cell_type": "code",
   "execution_count": 26,
   "id": "c8ed19fd-9086-4e7c-a2d3-a72f9e419877",
   "metadata": {},
   "outputs": [],
   "source": [
    "smoothed = np.convolve(vec, np.ones(window)/window,  'valid')\n"
   ]
  },
  {
   "cell_type": "markdown",
   "id": "d13d7efe-3066-4c0a-9c1c-c0f61676d4d6",
   "metadata": {},
   "source": [
    "## Task4"
   ]
  },
  {
   "cell_type": "code",
   "execution_count": 28,
   "id": "b774e8ad-2f49-41ec-90fe-0a5da95ddcc4",
   "metadata": {},
   "outputs": [],
   "source": [
    "def is_side_triangle(row):\n",
    "    return row[0]<row[1] + row[2] and row[1]<row[0] + row[2] and row[2]<row[0] + row[1]"
   ]
  },
  {
   "cell_type": "code",
   "execution_count": 30,
   "id": "d7446ede-5f6a-4e14-a479-b727e656c3ee",
   "metadata": {},
   "outputs": [
    {
     "name": "stdout",
     "output_type": "stream",
     "text": [
      "[[96 42 99]\n",
      " [83 42 67]\n",
      " [43 72 91]\n",
      " [80 78 25]\n",
      " [81 59 53]]\n"
     ]
    }
   ],
   "source": [
    "n = 10\n",
    "matrix = rand.uniform(1,100, (n,3))\n",
    "matrix = matrix.astype(np.uint32)\n",
    "matrix_filter = np.apply_along_axis(is_side_triangle, axis = 1, arr = matrix) ## axis = 1 функция приминяется к каждой строке , 0 - cтолбцу , 2 - слою ...\n",
    "filtered_matrix = matrix[matrix_filter]\n",
    "print(filtered_matrix)"
   ]
  },
  {
   "cell_type": "markdown",
   "id": "93c52a53-3997-452c-9aed-7bbf12374692",
   "metadata": {},
   "source": [
    "## Task5"
   ]
  },
  {
   "cell_type": "markdown",
   "id": "5dafe431-1a61-4b26-84d8-63f7bbc81bdb",
   "metadata": {},
   "source": [
    "### метод гаусса"
   ]
  },
  {
   "cell_type": "code",
   "execution_count": 194,
   "id": "50bc089e-3149-4656-b7ad-21c2e3acdaa3",
   "metadata": {},
   "outputs": [],
   "source": [
    "def strsub(matrix, N, strDec, staticStr, jStart, coef) :\n",
    "    for j in range (jStart, N+1):\n",
    "        matrix[strDec][i] =  matrix[strDec][i] - matrix[staticStr][i] * coef"
   ]
  },
  {
   "cell_type": "code",
   "execution_count": 31,
   "id": "c7cf2636-7982-40da-af10-bc0f75168b17",
   "metadata": {},
   "outputs": [
    {
     "name": "stdout",
     "output_type": "stream",
     "text": [
      "[[ 5  2  3 23]\n",
      " [ 0  2  0  3]\n",
      " [ 4  3  2 19]]\n",
      "\n",
      "[[ 5  2  3 23]\n",
      " [ 0  2  0  3]\n",
      " [ 0  1  0  0]]\n",
      "\n",
      "[[ 5  2  3 23]\n",
      " [ 0  2  0  3]\n",
      " [ 0  0  0 -1]]\n",
      "\n",
      "[[ 5  2  3 23]\n",
      " [ 0  2  0  3]\n",
      " [ 0  0  0  0]]\n",
      "\n",
      "[[ 5  2  3 23]\n",
      " [ 0  2  0  3]\n",
      " [ 0 -2  0 -3]]\n",
      "\n",
      "[[      5       2       3  180003]\n",
      " [      0       2       0       1]\n",
      " [      0      -2       0 -300000]]\n",
      "180003\n",
      "1\n",
      "-300000\n"
     ]
    }
   ],
   "source": [
    "import numpy as np\n",
    "\n",
    "def strsub(matrix, N, strDec, staticStr, jStart, coef):\n",
    "    for j in range(jStart, N + 1):\n",
    "        matrix[strDec][j] = matrix[strDec][j] - matrix[staticStr][j] * coef\n",
    "    print(matrix)\n",
    "    print()\n",
    "\n",
    "\n",
    "matrix = np.array([[5, 2, 3, 23],\n",
    "                   [3, 4, 2, 17],\n",
    "                   [4, 3, 2, 19]])\n",
    "\n",
    "# matrix = np.array([[2,1,-1,8],\n",
    "## [-3,-1,2,-11],\n",
    "# [-2,1,2,-3]] ,dtype= float)\n",
    "N = len(matrix)\n",
    "\n",
    "for i in range(N):\n",
    "    k = N - 1\n",
    "    while (matrix[i][i] == 0 and k != 0):\n",
    "        strsub(matrix, N, i, k, 0, 1.0)\n",
    "        k -= 1\n",
    "    for j in range(i + 1, N):\n",
    "        c = matrix[j][i] / matrix[i][i]\n",
    "        strsub(matrix, N, j, i, i, c)\n",
    "\n",
    "\n",
    "\n",
    "for i in range(N - 1, -1, -1):\n",
    "    sum = 0\n",
    "    for j in range(i + 1, N):\n",
    "        sum += matrix[i][j] * matrix[j][N]\n",
    "    matrix[i][N] = (matrix[i][N] - sum) / (matrix[i][i] + 1e-5)\n",
    "\n",
    "print(matrix)\n",
    "\n",
    "print(matrix[0][N])\n",
    "print(matrix[1][N])\n",
    "print(matrix[2][N])    "
   ]
  },
  {
   "cell_type": "markdown",
   "id": "a1bdb07b-5815-4dc0-b0a7-237418610fa2",
   "metadata": {},
   "source": [
    "### метод Краммера"
   ]
  },
  {
   "cell_type": "code",
   "execution_count": 269,
   "id": "5f70d9b9-ff94-47dd-b113-743128ab2e7b",
   "metadata": {},
   "outputs": [],
   "source": [
    "def new_matrix(original_matrix, idx, newcolumn):\n",
    "    new_matrix = original_matrix.copy()\n",
    "    new_matrix[:, idx] = newcolumn\n",
    "\n",
    "    return new_matrix\n",
    "    \n",
    "def Crammer(matrix, value):\n",
    "    det_matrix = np.linalg.det(matrix)\n",
    "    res = []\n",
    "    for i in range (len(matrix)):\n",
    "        temp = new_matrix(matrix,i,value) \n",
    "        det_temp = np.linalg.det(temp)\n",
    "        res.append(det_temp/det_matrix)\n",
    "        \n",
    "    res = list(map(round, res))\n",
    "    print(res)\n",
    "    "
   ]
  },
  {
   "cell_type": "code",
   "execution_count": 270,
   "id": "fbf5d04c-127e-4a11-bb77-7237ed98e1a0",
   "metadata": {},
   "outputs": [
    {
     "name": "stdout",
     "output_type": "stream",
     "text": [
      "[3, 1, 2]\n"
     ]
    }
   ],
   "source": [
    "matrix = np.array([[3,4,2],\n",
    "                  [5,2,3],\n",
    "                 [4,3,2]], dtype = float)\n",
    "value = np.array([17,23,19], dtype = float)\n",
    "Crammer(matrix,value)"
   ]
  },
  {
   "cell_type": "markdown",
   "id": "9fec7f62-fa6a-4f64-b9cf-742bfd6cf669",
   "metadata": {},
   "source": [
    "### Матричный метод"
   ]
  },
  {
   "cell_type": "code",
   "execution_count": 286,
   "id": "3ed7a4e7-c257-4b93-8062-2411cddb4ba7",
   "metadata": {},
   "outputs": [
    {
     "name": "stdout",
     "output_type": "stream",
     "text": [
      "[3. 1. 2.]\n"
     ]
    }
   ],
   "source": [
    "matrix = np.array([[3,4,2],\n",
    "                  [5,2,3],\n",
    "                 [4,3,2]], dtype = float)\n",
    "value = np.array([17,23,19], dtype = float)\n",
    "matrix_inv = np.linalg.inv(matrix)\n",
    "res = np.matmul(matrix_inv, value)\n",
    "print(res)"
   ]
  },
  {
   "cell_type": "markdown",
   "id": "b73c07d1-7ac4-4cb3-9224-25c86f33145f",
   "metadata": {},
   "source": [
    "## Task6"
   ]
  },
  {
   "cell_type": "markdown",
   "id": "74d16451-b758-40c7-b73a-c4823559e298",
   "metadata": {},
   "source": [
    "### Сингулярное разложение матрицы\n",
    "\n",
    "Сингулярное разложение матрицы (SVD, Singular Value Decomposition) — это метод в линейной алгебре, который позволяет разложить любую матрицу на произведение трех матриц: ортогональной матрицы, диагональной матрицы и еще одной ортогональной матрицы. Формально, для любой матрицы \\( A \\) размера \\\\( m \\times n \\\\) существует разложение:\n",
    "\n",
    "\\\\[ A = U \\Sigma V^T \\\\]\n",
    "\n",
    "где:\n",
    "- \\\\( U \\\\) — ортогональная матрица размера \\\\( m \\times m \\\\),\n",
    "- \\\\( \\Sigma \\\\) — диагональная матрица размера \\\\( m \\times n \\\\),\n",
    "- \\\\( V \\\\) — ортогональная матрица размера \\\\( n \\times n \\\\).\n",
    "\n",
    "Матрица \\\\( \\Sigma \\\\) содержит сингулярные значения матрицы \\\\( A \\\\) на диагонали, а остальные элементы равны нулю. Сингулярные значения — это неотрицательные числа, которые упорядочены по убыванию."
   ]
  },
  {
   "cell_type": "code",
   "execution_count": 24,
   "id": "32c7f24f-cda5-4bc3-8500-ad5aa2c4180c",
   "metadata": {},
   "outputs": [],
   "source": [
    "A = np.array([[1,0,1],\n",
    "             [0,1,0],\n",
    "             [1,0,1]], dtype=float)\n",
    "U, s_vec, Vtr = np.linalg.svd(A)\n",
    "s_matrix = np.zeros((3, 3))\n",
    "s_matrix[np.diag_indices(3)] = s_vec\n",
    "\n"
   ]
  },
  {
   "cell_type": "code",
   "execution_count": 25,
   "id": "3f9b77b6-cd76-4ac7-bd43-69a0d144b50c",
   "metadata": {},
   "outputs": [
    {
     "name": "stdout",
     "output_type": "stream",
     "text": [
      "[[1. 0. 1.]\n",
      " [0. 1. 0.]\n",
      " [1. 0. 1.]]\n"
     ]
    }
   ],
   "source": [
    "print(np.matmul(np.matmul(U, s_matrix), Vtr) )"
   ]
  },
  {
   "cell_type": "code",
   "execution_count": 33,
   "id": "69aa092f-4a40-4f17-8d92-433cf4b94beb",
   "metadata": {
    "scrolled": true
   },
   "outputs": [
    {
     "name": "stdout",
     "output_type": "stream",
     "text": [
      "Исходный:\n",
      " [[2 3 3]\n",
      " [4 1 1]]\n",
      "[3 3 4]\n"
     ]
    }
   ],
   "source": [
    "np.random.seed(18182)\n",
    "b = np.random.randint(5, size=(2, 3))\n",
    "print('Исходный:\\n', b)\n",
    "x = np.where(b > 2)\n",
    "print(b[x])"
   ]
  },
  {
   "cell_type": "code",
   "execution_count": null,
   "id": "d57e326f-fcd5-42b6-892c-0a7d6490ed0c",
   "metadata": {},
   "outputs": [],
   "source": []
  },
  {
   "cell_type": "code",
   "execution_count": 52,
   "id": "4facaf28-9725-43c6-bc6e-cebb0508d3ad",
   "metadata": {},
   "outputs": [
    {
     "name": "stdout",
     "output_type": "stream",
     "text": [
      "[[0.31987114 0.84651651 0.46961074 0.05927739 0.17190478 0.58687235\n",
      "  0.5603574  0.34345002 0.81774277]]\n"
     ]
    }
   ],
   "source": [
    "\n",
    "list2 = [1,2,3,4,5,6,7,8,9]\n",
    "P = 0.7\n",
    "freq_in_list2 = np.random.uniform(0,1,size = (1,len(list2)))\n",
    "print(freq_in_list2)\n",
    "mask = np.where(freq_in_list2 > P, True, False)\n",
    "mask = mask.tolist()"
   ]
  },
  {
   "cell_type": "code",
   "execution_count": null,
   "id": "35b3dbdb-aba1-45e5-a281-06d896e8bcfe",
   "metadata": {},
   "outputs": [],
   "source": []
  }
 ],
 "metadata": {
  "kernelspec": {
   "display_name": "Python 3 (ipykernel)",
   "language": "python",
   "name": "python3"
  },
  "language_info": {
   "codemirror_mode": {
    "name": "ipython",
    "version": 3
   },
   "file_extension": ".py",
   "mimetype": "text/x-python",
   "name": "python",
   "nbconvert_exporter": "python",
   "pygments_lexer": "ipython3",
   "version": "3.12.5"
  }
 },
 "nbformat": 4,
 "nbformat_minor": 5
}
