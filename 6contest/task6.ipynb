{
 "cells": [
  {
   "cell_type": "code",
   "execution_count": 5,
   "metadata": {},
   "outputs": [],
   "source": [
    "import cv2\n",
    "import numpy as np"
   ]
  },
  {
   "cell_type": "markdown",
   "metadata": {},
   "source": [
    "# Задания\n",
    "1. Для данных Nails segmentation объедините пары изображение-маска (список файлов получить с помощью библиотеки os название парных изображений совпадают)\n",
    "2. Выведите по очереди пары с помощью OpenCV эти пары (переключение по нажатию клавиши)\n",
    "3. Выделите контуры на масках и отрисуйте их на изображениях\n",
    "4. Воспроизведите любой видеофайл с помощью OpenCV в градациях серого"
   ]
  },
  {
   "cell_type": "code",
   "execution_count": 6,
   "metadata": {},
   "outputs": [],
   "source": [
    "import os"
   ]
  },
  {
   "cell_type": "code",
   "execution_count": 7,
   "metadata": {},
   "outputs": [],
   "source": [
    "images_dir = r'C:\\Users\\Ilya\\Tasks PAK\\data\\nails_segmentation\\images'\n",
    "labels_dir = r'C:\\Users\\Ilya\\Tasks PAK\\data\\nails_segmentation\\labels'\n",
    "\n",
    "images_files = [file for file in os.listdir(images_dir)]\n",
    "\n",
    "images_path = [os.path.join(images_dir, file) for file in images_files]\n",
    "labels_path = [os.path.join(labels_dir, file) for file in images_files]\n"
   ]
  },
  {
   "cell_type": "markdown",
   "metadata": {},
   "source": [
    "## Task1"
   ]
  },
  {
   "cell_type": "code",
   "execution_count": 8,
   "metadata": {},
   "outputs": [],
   "source": [
    "new_dir = 'nails_segmentation/images_and_labels'"
   ]
  },
  {
   "cell_type": "code",
   "execution_count": 9,
   "metadata": {},
   "outputs": [
    {
     "data": {
      "text/plain": [
       "numpy.ndarray"
      ]
     },
     "execution_count": 9,
     "metadata": {},
     "output_type": "execute_result"
    }
   ],
   "source": [
    "img1 = cv2.imread(images_path[1])\n",
    "type(img1)"
   ]
  },
  {
   "cell_type": "code",
   "execution_count": 10,
   "metadata": {},
   "outputs": [
    {
     "ename": "error",
     "evalue": "OpenCV(4.10.0) D:\\a\\opencv-python\\opencv-python\\opencv\\modules\\highgui\\src\\window_w32.cpp:1261: error: (-27:Null pointer) NULL window: 'Image and Label' in function 'cvDestroyWindow'\n",
     "output_type": "error",
     "traceback": [
      "\u001b[1;31m---------------------------------------------------------------------------\u001b[0m",
      "\u001b[1;31merror\u001b[0m                                     Traceback (most recent call last)",
      "Cell \u001b[1;32mIn[10], line 13\u001b[0m\n\u001b[0;32m     11\u001b[0m     \u001b[38;5;28;01mif\u001b[39;00m key \u001b[38;5;241m==\u001b[39m \u001b[38;5;241m27\u001b[39m:\n\u001b[0;32m     12\u001b[0m         \u001b[38;5;28;01mbreak\u001b[39;00m\n\u001b[1;32m---> 13\u001b[0m     \u001b[43mcv2\u001b[49m\u001b[38;5;241;43m.\u001b[39;49m\u001b[43mdestroyWindow\u001b[49m\u001b[43m(\u001b[49m\u001b[38;5;124;43m'\u001b[39;49m\u001b[38;5;124;43mImage and Label\u001b[39;49m\u001b[38;5;124;43m'\u001b[39;49m\u001b[43m)\u001b[49m\n\u001b[0;32m     15\u001b[0m cv2\u001b[38;5;241m.\u001b[39mdestroyWindow(\u001b[38;5;124m'\u001b[39m\u001b[38;5;124mImage and Label\u001b[39m\u001b[38;5;124m'\u001b[39m)\n",
      "\u001b[1;31merror\u001b[0m: OpenCV(4.10.0) D:\\a\\opencv-python\\opencv-python\\opencv\\modules\\highgui\\src\\window_w32.cpp:1261: error: (-27:Null pointer) NULL window: 'Image and Label' in function 'cvDestroyWindow'\n"
     ]
    }
   ],
   "source": [
    "for i in range(len(images_path)) :\n",
    "    img = cv2.imread(images_path[i])\n",
    "    label = cv2.imread(labels_path[i])\n",
    "\n",
    "    img_and_label = cv2.bitwise_and(img, label)\n",
    "\n",
    "    cv2.imshow('Image and Label', img_and_label)\n",
    "    cv2.imwrite(os.path.join(new_dir,images_files[i]), img_and_label)\n",
    "    key = cv2.waitKey(0) & 0xff\n",
    "    \n",
    "    if key == 27:\n",
    "        break\n",
    "    cv2.destroyWindow('Image and Label')\n",
    "    \n",
    "cv2.destroyWindow('Image and Label')"
   ]
  },
  {
   "cell_type": "markdown",
   "metadata": {},
   "source": [
    "## Task2"
   ]
  },
  {
   "cell_type": "code",
   "execution_count": 11,
   "metadata": {},
   "outputs": [],
   "source": [
    "for i in range(len(images_path)) :\n",
    "    img = cv2.imread(images_path[i])\n",
    "    label = cv2.imread(labels_path[i])\n",
    "\n",
    "    cv2.imshow('Image', img)\n",
    "    cv2.imshow('Label', label)\n",
    "    key = cv2.waitKey(0) & 0xff\n",
    "    \n",
    "    if key == 27:\n",
    "        break\n",
    "    cv2.destroyAllWindows()\n",
    "\n",
    "cv2.destroyAllWindows()        "
   ]
  },
  {
   "cell_type": "markdown",
   "metadata": {},
   "source": [
    "## Task3"
   ]
  },
  {
   "cell_type": "code",
   "execution_count": 31,
   "metadata": {},
   "outputs": [],
   "source": [
    "for i in range(len(images_path)) :\n",
    "    img = cv2.imread(images_path[i])\n",
    "    label = cv2.imread(labels_path[i], 0)\n",
    "\n",
    "    label = cv2.GaussianBlur(label, (5, 5), 0)\n",
    "    \n",
    "    contours, hierarchy = cv2.findContours(label, cv2.RETR_TREE, cv2.CHAIN_APPROX_SIMPLE)\n",
    "    \n",
    "    img = cv2.drawContours(img, contours, -1, (0, 255, 0), 2)\n",
    "    \n",
    "    cv2.imshow('Image with contours', img)\n",
    "    key = cv2.waitKey(0) & 0xff\n",
    "    \n",
    "    if key == 27:\n",
    "        break\n",
    "    cv2.destroyWindow('Image with contours') \n",
    "cv2.destroyWindow('Image with contours')"
   ]
  },
  {
   "cell_type": "markdown",
   "metadata": {},
   "source": [
    "## Task4"
   ]
  },
  {
   "cell_type": "code",
   "execution_count": 32,
   "metadata": {},
   "outputs": [],
   "source": [
    "camera = cv2.VideoCapture(0)\n",
    "while True:\n",
    "    ret, frame = camera.read()\n",
    "    key = cv2.waitKey(20) & 0xff\n",
    "    frame = cv2.cvtColor(frame,cv2.COLOR_RGB2GRAY)\n",
    "    cv2.imshow('Frame', frame)\n",
    "    if key == 27: \n",
    "        break\n",
    "        \n",
    "cv2.destroyWindow('Frame')\n",
    "camera.release()"
   ]
  },
  {
   "cell_type": "markdown",
   "metadata": {},
   "source": [
    "# Лабораторная работа"
   ]
  },
  {
   "cell_type": "markdown",
   "metadata": {},
   "source": [
    "1. Покадровое получение видеопотока с камеры. Использовать камеру ноутбука, вебкамеру или записать видео файл с вебкамеры товарища и использовать его.\n",
    "2. Реализовать обнаружение движения в видеопотоке: попарно сравнивать текущий и предыдущий кадры.\n",
    "3. По мере проигрывания видео в отдельном окне отрисовывать двухцветную карту с результатом: красное - есть движение, зелёное - нет движения\n",
    "4. Добавить таймер, по которому включается и выключается обнаружение движения. О текущем режиме программы сообщать текстом с краю изображения: “Красный свет” - движение обнаруживается, “Зелёный свет” - движение не обнаруживается.\n",
    "5. Реализовать более сложный алгоритм обнаружения движения, устойчивый к шумам вебкамеры (OpticalFlow)"
   ]
  },
  {
   "cell_type": "code",
   "execution_count": 2,
   "metadata": {},
   "outputs": [],
   "source": [
    "import time"
   ]
  },
  {
   "cell_type": "code",
   "execution_count": 3,
   "metadata": {},
   "outputs": [],
   "source": [
    "def detection_timer(start_time,current_time,detection_enabled):\n",
    "    if current_time - start_time > 10.0 :\n",
    "        start_time = current_time\n",
    "        detection_enabled = not detection_enabled\n",
    "    return start_time, detection_enabled"
   ]
  },
  {
   "cell_type": "code",
   "execution_count": 4,
   "metadata": {},
   "outputs": [],
   "source": [
    "camera = cv2.VideoCapture(0)\n",
    "\n",
    " # установка размера окна\n",
    "camera.set(3,500)\n",
    "camera.set(4,300)\n",
    "\n",
    "start_time = time.time()\n",
    "detection_enabled = True\n",
    "\n",
    "\n",
    "_, frame = camera.read()\n",
    "frame = cv2.GaussianBlur(frame, (5,5), 0)\n",
    "_, newFrame = camera.read()\n",
    "\n",
    "while cv2.waitKey(20) & 0xff != 27:\n",
    "\n",
    "    # Проверяем таймер для включения/выключения обнаружения движения\n",
    "    current_time = time.time()\n",
    "    start_time, detection_enabled = detection_timer(start_time, current_time, detection_enabled)\n",
    "    \n",
    "    newFrame = cv2.GaussianBlur(newFrame, (5,5), 0)\n",
    "\n",
    "    diff_frame = cv2.absdiff(frame, newFrame) \n",
    "    \n",
    "    gray_frame = cv2.cvtColor(diff_frame,cv2.COLOR_RGB2GRAY)\n",
    "\n",
    "    blur_frame = cv2.GaussianBlur(gray_frame, (5,5), 0)\n",
    "\n",
    "    _, thresh = cv2.threshold(blur_frame, 20, 255, cv2.THRESH_BINARY)\n",
    "\n",
    "    dilated = cv2.dilate(thresh, None, iterations = 3)\n",
    "\n",
    "\n",
    "    start_time_str = time.strftime(\"%S\", time.localtime(10-(current_time-start_time)))\n",
    "\n",
    "    green_red_dilated = np.zeros((dilated.shape[0], dilated.shape[1], 3), dtype=np.uint8)\n",
    "    green_red_dilated[dilated==255] = [0,0,255]\n",
    "    green_red_dilated[dilated==0] = [0,255,0]\n",
    "\n",
    "\n",
    "    if detection_enabled:\n",
    "        cv2.putText(frame, 'Red light', (10, 30), cv2.FONT_HERSHEY_SIMPLEX, 1, (0, 0, 255), 2, cv2.LINE_AA)\n",
    "        cv2.putText(frame, start_time_str, (370, 60), cv2.FONT_HERSHEY_SIMPLEX, 1, (0, 0, 255), 2, cv2.LINE_AA)\n",
    "        cv2.putText(frame, 'seconds before green:', (10, 60), cv2.FONT_HERSHEY_SIMPLEX, 1, (0, 0, 255), 2, cv2.LINE_AA)\n",
    "        cv2.putText(green_red_dilated, 'detection_enabled', (10, 30), cv2.FONT_HERSHEY_SIMPLEX, 1, (0, 0, 255), 2, cv2.LINE_AA)\n",
    "        cv2.imshow('motion detection', green_red_dilated)\n",
    "    else:\n",
    "        if cv2.getWindowProperty('motion detection', cv2.WND_PROP_VISIBLE) > 0:\n",
    "            cv2.destroyWindow('motion detection')\n",
    "        cv2.putText(frame, 'Green light', (10, 30), cv2.FONT_HERSHEY_SIMPLEX, 1, (0, 255, 0), 2, cv2.LINE_AA)\n",
    "        cv2.putText(frame, start_time_str, (350, 60), cv2.FONT_HERSHEY_SIMPLEX, 1, (0, 255, 0), 2, cv2.LINE_AA)\n",
    "        cv2.putText(frame, 'seconds before red:', (10, 60), cv2.FONT_HERSHEY_SIMPLEX, 1, (0, 255, 0), 2, cv2.LINE_AA)\n",
    "        \n",
    "\n",
    "    cv2.imshow('Frame', frame)\n",
    "        \n",
    "    frame = newFrame\n",
    "    _, newFrame = camera.read()\n",
    "    \n",
    "\n",
    "cv2.destroyAllWindows()\n",
    "camera.release()"
   ]
  },
  {
   "cell_type": "code",
   "execution_count": null,
   "metadata": {},
   "outputs": [],
   "source": []
  }
 ],
 "metadata": {
  "kernelspec": {
   "display_name": "Python 3",
   "language": "python",
   "name": "python3"
  },
  "language_info": {
   "codemirror_mode": {
    "name": "ipython",
    "version": 3
   },
   "file_extension": ".py",
   "mimetype": "text/x-python",
   "name": "python",
   "nbconvert_exporter": "python",
   "pygments_lexer": "ipython3",
   "version": "3.12.5"
  }
 },
 "nbformat": 4,
 "nbformat_minor": 2
}
