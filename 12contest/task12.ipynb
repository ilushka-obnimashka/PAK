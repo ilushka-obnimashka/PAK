{
 "cells": [
  {
   "cell_type": "code",
   "execution_count": 2,
   "metadata": {
    "id": "HUjFr7hoOtON"
   },
   "outputs": [],
   "source": [
    "import numpy as np\n",
    "from typing import List\n",
    "from tqdm import tqdm\n",
    "from typing import Tuple"
   ]
  },
  {
   "cell_type": "markdown",
   "metadata": {
    "id": "7g3gi9XZPSAt"
   },
   "source": [
    "## Лабораторная работа 12. Матчасть DL"
   ]
  },
  {
   "cell_type": "markdown",
   "metadata": {
    "id": "8jjD6A3xoMIc"
   },
   "source": [
    "1. Класс Neuron, имеющий вектор весов self._weigths\n",
    "\n",
    "2. Два метода класса Neuron: forward(x), backward(x, loss) - реализующих прямой и обратный проход по нейронной сети. Метод forward должен реализовывать логику работу нейрона: умножение входа на вес self._weigths, сложение и функцию активации сигмоиду. Метод backward должен реализовывать взятие производной от сигмоиды и используя состояние нейрона обновить его веса.\n",
    "\n",
    "3. Реализовать с помощью класса Neuron нейронную сеть с архитектурой из трёх нейронов, предложенную в статье.\n",
    "\n",
    "4. Для красоты обернуть в класс Model с методами forward и backward, реализующими правильное взаимодействие нейронов на прямом и обратном проходах.\n",
    "\n",
    "5. Реализовать тренировочный цикл следующего вида:\n",
    "```\n",
    "цикл (обучающие данные):\n",
    "      y = model.forward(x)\n",
    "      err = loss(y, label)\n",
    "      model.backward(x, err)\n",
    "```"
   ]
  },
  {
   "cell_type": "code",
   "execution_count": 3,
   "metadata": {
    "id": "u-TKTaxZq-z8"
   },
   "outputs": [],
   "source": [
    "def sigmoid(x):\n",
    "  return 1/(1 + np.exp(-x))\n",
    "\n",
    "def d_sigmoid(x):\n",
    "    return x * (1 - x)"
   ]
  },
  {
   "cell_type": "code",
   "execution_count": null,
   "metadata": {
    "id": "9--vV_zuok_i"
   },
   "outputs": [],
   "source": [
    "class Neuron:\n",
    "  def __init__ (self, weights : list[int], bias : float):\n",
    "    self._weights = weights\n",
    "    self._bias = bias\n",
    "\n",
    "  def forward(self, x: Tuple[int, int]) -> float:\n",
    "    \"\"\"\n",
    "    Выполняет прямое распространение для входных данных x.\n",
    "\n",
    "    params:\n",
    "    x (list): Входные данные в виде списка из двух значений (входные данные для XOR).\n",
    "\n",
    "    return:\n",
    "    float: Выход нейрона после применения функции активации (функция сигомиды).\n",
    "    \"\"\"\n",
    "    x = np.array(x)\n",
    "    sum = np.dot(x, self._weights.T) + self._bias\n",
    "\n",
    "    return sigmoid(sum)\n",
    "\n",
    "\n",
    "  def backward(self, output : Tuple [int, int], error : float, learning_rate : float) -> float :\n",
    "\n",
    "\n",
    "    out_sigmoid = self.forward(output)\n",
    "    out_d = d_sigmoid(out_sigmoid)\n",
    "\n",
    "    delta = error * out_d # градиент\n",
    "\n",
    "    self._weights -= np.dot(output, delta * learning_rate)\n",
    "    self._bias -= delta * learning_rate\n",
    "\n",
    "    return delta * self._weights # градиент по весам  слоя\n"
   ]
  },
  {
   "cell_type": "code",
   "execution_count": 5,
   "metadata": {
    "id": "hdW-oiDMosrE"
   },
   "outputs": [],
   "source": [
    "class Model:\n",
    "    def __init__(self, learning_rate=0.01):\n",
    "        self._hidden_bias = np.random.uniform(size=(2,))\n",
    "        self._output_bias = np.random.uniform(size=(1,))\n",
    "        self._hidden_neurons = [Neuron(np.random.uniform(-1, 1, 2), np.random.uniform(-1, 1)) for _ in range(2)]\n",
    "        self._output_neuron = Neuron(np.random.uniform(-1, 1, 2), np.random.uniform(-1, 1))\n",
    "        self._learning_rate = learning_rate\n",
    "\n",
    "    def forward(self, x: Tuple[int, int]) ->  float:\n",
    "        hidden_outputs = tuple(neuron.forward(x) for neuron in self._hidden_neurons)\n",
    "        predict = self._output_neuron.forward(hidden_outputs)\n",
    "        return predict\n",
    "\n",
    "    def backward(self, input: Tuple[int, int], error: float):\n",
    "        hidden_outputs = tuple(neuron.forward(input) for neuron in self._hidden_neurons)\n",
    "        delta = self._output_neuron.backward(hidden_outputs, error, self._learning_rate)\n",
    "        for i, neuron in enumerate(self._hidden_neurons):\n",
    "            neuron.backward(input, delta[i], self._learning_rate)\n",
    "\n"
   ]
  },
  {
   "cell_type": "code",
   "execution_count": 6,
   "metadata": {
    "id": "Rv-OJ7-_bILQ"
   },
   "outputs": [],
   "source": [
    " def loss(predict: float, label: float) -> float:\n",
    "    return 1/2*(label - predict)**2"
   ]
  },
  {
   "cell_type": "code",
   "execution_count": 11,
   "metadata": {
    "colab": {
     "base_uri": "https://localhost:8080/"
    },
    "collapsed": true,
    "id": "ihE9bYpa3Luy",
    "outputId": "b538033b-5710-4b71-af3d-2d94d6945b74"
   },
   "outputs": [
    {
     "name": "stderr",
     "output_type": "stream",
     "text": [
      " 18%|█▊        | 1797/10000 [00:00<00:01, 4431.85it/s]"
     ]
    },
    {
     "name": "stdout",
     "output_type": "stream",
     "text": [
      "Epoch 999, Loss: 0.001784683439491619\n"
     ]
    },
    {
     "name": "stderr",
     "output_type": "stream",
     "text": [
      " 27%|██▋       | 2700/10000 [00:00<00:01, 4345.32it/s]"
     ]
    },
    {
     "name": "stdout",
     "output_type": "stream",
     "text": [
      "Epoch 1999, Loss: 0.005356640808145463\n"
     ]
    },
    {
     "name": "stderr",
     "output_type": "stream",
     "text": [
      " 36%|███▌      | 3572/10000 [00:00<00:01, 4339.95it/s]"
     ]
    },
    {
     "name": "stdout",
     "output_type": "stream",
     "text": [
      "Epoch 2999, Loss: 0.012836051055054254\n"
     ]
    },
    {
     "name": "stderr",
     "output_type": "stream",
     "text": [
      " 44%|████▍     | 4438/10000 [00:01<00:01, 4279.43it/s]"
     ]
    },
    {
     "name": "stdout",
     "output_type": "stream",
     "text": [
      "Epoch 3999, Loss: 0.038377245426408024\n"
     ]
    },
    {
     "name": "stderr",
     "output_type": "stream",
     "text": [
      " 58%|█████▊    | 5767/10000 [00:01<00:00, 4356.12it/s]"
     ]
    },
    {
     "name": "stdout",
     "output_type": "stream",
     "text": [
      "Epoch 4999, Loss: 0.0220124089394321\n"
     ]
    },
    {
     "name": "stderr",
     "output_type": "stream",
     "text": [
      " 67%|██████▋   | 6653/10000 [00:01<00:00, 4207.95it/s]"
     ]
    },
    {
     "name": "stdout",
     "output_type": "stream",
     "text": [
      "Epoch 5999, Loss: 0.016162045576016984\n"
     ]
    },
    {
     "name": "stderr",
     "output_type": "stream",
     "text": [
      " 75%|███████▌  | 7534/10000 [00:01<00:00, 4308.85it/s]"
     ]
    },
    {
     "name": "stdout",
     "output_type": "stream",
     "text": [
      "Epoch 6999, Loss: 0.013226992210441213\n"
     ]
    },
    {
     "name": "stderr",
     "output_type": "stream",
     "text": [
      " 84%|████████▍ | 8417/10000 [00:01<00:00, 4329.78it/s]"
     ]
    },
    {
     "name": "stdout",
     "output_type": "stream",
     "text": [
      "Epoch 7999, Loss: 0.011421745994894636\n"
     ]
    },
    {
     "name": "stderr",
     "output_type": "stream",
     "text": [
      " 97%|█████████▋| 9717/10000 [00:02<00:00, 4252.96it/s]"
     ]
    },
    {
     "name": "stdout",
     "output_type": "stream",
     "text": [
      "Epoch 8999, Loss: 0.010178364768664017\n"
     ]
    },
    {
     "name": "stderr",
     "output_type": "stream",
     "text": [
      "\r100%|██████████| 10000/10000 [00:02<00:00, 4282.42it/s]"
     ]
    },
    {
     "name": "stdout",
     "output_type": "stream",
     "text": [
      "Epoch 9999, Loss: 0.009258872032153219\n",
      "Input: [0 0], Predicted Output: 0.05729060743382826\n",
      "Input: [0 1], Predicted Output: 0.9512132513438234\n",
      "Input: [1 0], Predicted Output: 0.9500871615925586\n",
      "Input: [1 1], Predicted Output: 0.050679856524528714\n"
     ]
    },
    {
     "name": "stderr",
     "output_type": "stream",
     "text": [
      "\n"
     ]
    }
   ],
   "source": [
    "inputs = np.array([[0, 0], [0, 1], [1, 0], [1, 1]])\n",
    "expected_outputs = np.array([0, 1, 1, 0])\n",
    "\n",
    "\n",
    "model = Model(learning_rate=0.1)\n",
    "\n",
    "los_val = 0\n",
    "count = 0\n",
    "\n",
    "epochs = 10000\n",
    "for epoch in tqdm(range(epochs)):\n",
    "    los_val = 0\n",
    "    for x, y_true in zip(inputs, expected_outputs):\n",
    "        y = model.forward(x)\n",
    "        err = y - y_true\n",
    "        los_val+=err\n",
    "        model.backward(x, err)\n",
    "\n",
    "    count+=1\n",
    "    if (count == 1000):\n",
    "      count = 0\n",
    "      print(f\"Epoch {epoch}, Loss: {los_val}\")\n",
    "\n",
    "# Тестирование\n",
    "for x in inputs:\n",
    "    y_pred = model.forward(x)\n",
    "    print(f\"Input: {x}, Predicted Output: {y_pred}\")\n"
   ]
  },
  {
   "cell_type": "code",
   "execution_count": 7,
   "metadata": {
    "id": "HE2HL2dlZfyt"
   },
   "outputs": [],
   "source": []
  }
 ],
 "metadata": {
  "colab": {
   "provenance": []
  },
  "kernelspec": {
   "display_name": "Python 3",
   "name": "python3"
  },
  "language_info": {
   "name": "python"
  }
 },
 "nbformat": 4,
 "nbformat_minor": 0
}
